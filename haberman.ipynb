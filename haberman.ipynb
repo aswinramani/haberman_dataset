{
 "cells": [
  {
   "cell_type": "code",
   "execution_count": 15,
   "metadata": {},
   "outputs": [],
   "source": [
    "import numpy as np \n",
    "import pandas as pd\n",
    "import seaborn as snb\n",
    "\n",
    "data = pd.read_csv('haberman.csv')\n",
    "data.head(n=10)"
   ]
  },
  {
   "cell_type": "markdown",
   "metadata": {},
   "source": [
    "1. High Level Statistics \n",
    "  1.a Number of points\n",
    "  1.b Number of features \n",
    "  1.c Number of classes\n",
    "  1.d Data points per class"
   ]
  },
  {
   "cell_type": "markdown",
   "metadata": {},
   "source": [
    "2. Objective of this assignment"
   ]
  },
  {
   "cell_type": "markdown",
   "metadata": {},
   "source": [
    "3. Perform Univariate Analysis to determine the features that are necessary for classification\n",
    "3a. PDF\n",
    "3b. CDF\n",
    "3c. Boxplot\n",
    "3d. Violin Plot"
   ]
  },
  {
   "cell_type": "markdown",
   "metadata": {},
   "source": [
    "4. Perform Bivariate Analysis to determine the combination of features that are necessary for classification\n",
    "4a. Scatter Plot\n",
    "4b. Pair Plot"
   ]
  }
 ],
 "metadata": {
  "kernelspec": {
   "display_name": "Python 3",
   "language": "python",
   "name": "python3"
  },
  "language_info": {
   "codemirror_mode": {
    "name": "ipython",
    "version": 3
   },
   "file_extension": ".py",
   "mimetype": "text/x-python",
   "name": "python",
   "nbconvert_exporter": "python",
   "pygments_lexer": "ipython3",
   "version": "3.6.5"
  }
 },
 "nbformat": 4,
 "nbformat_minor": 2
}
